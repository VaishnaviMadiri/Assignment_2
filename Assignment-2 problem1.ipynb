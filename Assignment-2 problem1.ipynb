{
 "cells": [
  {
   "cell_type": "code",
   "execution_count": 1,
   "id": "a8a0df05",
   "metadata": {},
   "outputs": [
    {
     "name": "stdout",
     "output_type": "stream",
     "text": [
      "[ 8  9  2  1 17 14 12 16  8  1  8  2  9  4 12]\n",
      "[[ 8  9  2  1 17]\n",
      " [14 12 16  8  1]\n",
      " [ 8  2  9  4 12]]\n",
      "(3, 5)\n",
      "[[ 8  9  2  1  0]\n",
      " [14 12  0  8  1]\n",
      " [ 8  2  9  4  0]]\n"
     ]
    }
   ],
   "source": [
    "#Using NumPy create random vector of size 15 having only Integers in the range 1-20.\n",
    "import numpy as np\n",
    "n = np.random.randint(1,20,15)\n",
    "print(n)\n",
    "#1. Reshape the array to 3 by 5\n",
    "n1=np.reshape(n,(3,5))\n",
    "print(n1)\n",
    "#2. Print array shape.\n",
    "print(n1.shape)\n",
    "#3. Replace the max in each row by 0\n",
    "max_ele = np.amax(n1, axis = 1)\n",
    "max_ele = max_ele[: , None]\n",
    "n2 = np.where(n1 == max_ele, 0, n1)\n",
    "print(n2)"
   ]
  },
  {
   "cell_type": "code",
   "execution_count": null,
   "id": "8ec70260",
   "metadata": {},
   "outputs": [],
   "source": []
  }
 ],
 "metadata": {
  "kernelspec": {
   "display_name": "Python 3 (ipykernel)",
   "language": "python",
   "name": "python3"
  },
  "language_info": {
   "codemirror_mode": {
    "name": "ipython",
    "version": 3
   },
   "file_extension": ".py",
   "mimetype": "text/x-python",
   "name": "python",
   "nbconvert_exporter": "python",
   "pygments_lexer": "ipython3",
   "version": "3.9.13"
  }
 },
 "nbformat": 4,
 "nbformat_minor": 5
}
